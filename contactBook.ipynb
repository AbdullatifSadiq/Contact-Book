{
 "cells": [
  {
   "cell_type": "code",
   "execution_count": null,
   "metadata": {},
   "outputs": [],
   "source": []
  },
  {
   "cell_type": "code",
   "execution_count": 19,
   "metadata": {},
   "outputs": [
    {
     "name": "stdout",
     "output_type": "stream",
     "text": [
      "[{'Name': 'abdul', 'Number': 248647534, 'Email': 'abdul@gmail.com'}]\n"
     ]
    }
   ],
   "source": [
    "# Steps\n",
    "# create contact list\n",
    "# create contact\n",
    "# Add contact to list\n",
    "\n",
    "\n",
    "class Contact:\n",
    "\n",
    "    #creating a contact class that would be called to create new contact instances. \n",
    "    def __init__(self,name,number,email):\n",
    "        self.name = name\n",
    "        self.number = number\n",
    "        self.email = email\n",
    "    \n",
    "    #creating a dictionary that would contain contact details of a particular contact\n",
    "    def contact_details(self):\n",
    "        con_dict = {'Name': self.name, 'Number': self.number, 'Email': self.email}\n",
    "        return con_dict\n",
    "    \n",
    "    #Adding a conatct to the contact list\n",
    "    @staticmethod\n",
    "    def add_contact(con,con_list):\n",
    "        con_details = con.contact_details()\n",
    "        con_list.append(con_details)\n",
    "        print(con_list)\n",
    "    \n",
    "\n",
    "#Taking contact details from user\n",
    "name = str(input('Enter contact name'))\n",
    "number = int(input('Enter phone number'))\n",
    "email = str(input('Enter contact email'))\n",
    "\n",
    "# Creating an instance of the 'Contact' class using the details from the user\n",
    "con = Contact(name,number,email)\n",
    "\n",
    "# Displaying the contact list containing the contact details\n",
    "contact_list = []\n",
    "Contact.add_contact(con,contact_list)\n",
    "\n"
   ]
  }
 ],
 "metadata": {
  "kernelspec": {
   "display_name": "Python 3",
   "language": "python",
   "name": "python3"
  },
  "language_info": {
   "codemirror_mode": {
    "name": "ipython",
    "version": 3
   },
   "file_extension": ".py",
   "mimetype": "text/x-python",
   "name": "python",
   "nbconvert_exporter": "python",
   "pygments_lexer": "ipython3",
   "version": "3.12.1"
  }
 },
 "nbformat": 4,
 "nbformat_minor": 2
}
